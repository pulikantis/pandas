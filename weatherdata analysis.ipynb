{
 "cells": [
  {
   "cell_type": "code",
   "execution_count": 1,
   "metadata": {},
   "outputs": [],
   "source": [
    "import pandas as pd\n",
    "import numpy as np\n",
    "import matplotlib.pyplot as plt"
   ]
  },
  {
   "cell_type": "code",
   "execution_count": 77,
   "metadata": {},
   "outputs": [
    {
     "data": {
      "text/html": [
       "<div>\n",
       "<style scoped>\n",
       "    .dataframe tbody tr th:only-of-type {\n",
       "        vertical-align: middle;\n",
       "    }\n",
       "\n",
       "    .dataframe tbody tr th {\n",
       "        vertical-align: top;\n",
       "    }\n",
       "\n",
       "    .dataframe thead th {\n",
       "        text-align: right;\n",
       "    }\n",
       "</style>\n",
       "<table border=\"1\" class=\"dataframe\">\n",
       "  <thead>\n",
       "    <tr style=\"text-align: right;\">\n",
       "      <th></th>\n",
       "      <th>Day</th>\n",
       "      <th>Temperature</th>\n",
       "      <th>Windspeed</th>\n",
       "      <th>Event</th>\n",
       "    </tr>\n",
       "  </thead>\n",
       "  <tbody>\n",
       "    <tr>\n",
       "      <th>0</th>\n",
       "      <td>2019-08-01</td>\n",
       "      <td>35.0</td>\n",
       "      <td>6.0</td>\n",
       "      <td>Rain</td>\n",
       "    </tr>\n",
       "    <tr>\n",
       "      <th>1</th>\n",
       "      <td>2019-08-02</td>\n",
       "      <td>26.0</td>\n",
       "      <td>8.0</td>\n",
       "      <td>Snow</td>\n",
       "    </tr>\n",
       "    <tr>\n",
       "      <th>2</th>\n",
       "      <td>2019-08-03</td>\n",
       "      <td>45.0</td>\n",
       "      <td>NaN</td>\n",
       "      <td>Rain</td>\n",
       "    </tr>\n",
       "    <tr>\n",
       "      <th>3</th>\n",
       "      <td>2019-08-04</td>\n",
       "      <td>25.0</td>\n",
       "      <td>7.0</td>\n",
       "      <td>Sunny</td>\n",
       "    </tr>\n",
       "    <tr>\n",
       "      <th>4</th>\n",
       "      <td>2019-08-05</td>\n",
       "      <td>35.0</td>\n",
       "      <td>8.0</td>\n",
       "      <td>Snow</td>\n",
       "    </tr>\n",
       "  </tbody>\n",
       "</table>\n",
       "</div>"
      ],
      "text/plain": [
       "         Day  Temperature  Windspeed  Event\n",
       "0 2019-08-01         35.0        6.0   Rain\n",
       "1 2019-08-02         26.0        8.0   Snow\n",
       "2 2019-08-03         45.0        NaN   Rain\n",
       "3 2019-08-04         25.0        7.0  Sunny\n",
       "4 2019-08-05         35.0        8.0   Snow"
      ]
     },
     "execution_count": 77,
     "metadata": {},
     "output_type": "execute_result"
    }
   ],
   "source": [
    "df=pd.read_excel(\"weatherdata.xlsx\")\n",
    "df.head()"
   ]
  },
  {
   "cell_type": "code",
   "execution_count": 84,
   "metadata": {},
   "outputs": [
    {
     "data": {
      "text/html": [
       "<div>\n",
       "<style scoped>\n",
       "    .dataframe tbody tr th:only-of-type {\n",
       "        vertical-align: middle;\n",
       "    }\n",
       "\n",
       "    .dataframe tbody tr th {\n",
       "        vertical-align: top;\n",
       "    }\n",
       "\n",
       "    .dataframe thead th {\n",
       "        text-align: right;\n",
       "    }\n",
       "</style>\n",
       "<table border=\"1\" class=\"dataframe\">\n",
       "  <thead>\n",
       "    <tr style=\"text-align: right;\">\n",
       "      <th></th>\n",
       "      <th>Day</th>\n",
       "      <th>Temperature</th>\n",
       "      <th>Windspeed</th>\n",
       "      <th>Event</th>\n",
       "    </tr>\n",
       "  </thead>\n",
       "  <tbody>\n",
       "    <tr>\n",
       "      <th>0</th>\n",
       "      <td>2019-08-01</td>\n",
       "      <td>35.0</td>\n",
       "      <td>6.0</td>\n",
       "      <td>Rain</td>\n",
       "    </tr>\n",
       "    <tr>\n",
       "      <th>1</th>\n",
       "      <td>2019-08-02</td>\n",
       "      <td>26.0</td>\n",
       "      <td>8.0</td>\n",
       "      <td>Snow</td>\n",
       "    </tr>\n",
       "    <tr>\n",
       "      <th>2</th>\n",
       "      <td>2019-08-03</td>\n",
       "      <td>45.0</td>\n",
       "      <td>0.0</td>\n",
       "      <td>Rain</td>\n",
       "    </tr>\n",
       "    <tr>\n",
       "      <th>3</th>\n",
       "      <td>2019-08-04</td>\n",
       "      <td>25.0</td>\n",
       "      <td>7.0</td>\n",
       "      <td>Sunny</td>\n",
       "    </tr>\n",
       "    <tr>\n",
       "      <th>4</th>\n",
       "      <td>2019-08-05</td>\n",
       "      <td>35.0</td>\n",
       "      <td>8.0</td>\n",
       "      <td>Snow</td>\n",
       "    </tr>\n",
       "  </tbody>\n",
       "</table>\n",
       "</div>"
      ],
      "text/plain": [
       "         Day  Temperature  Windspeed  Event\n",
       "0 2019-08-01         35.0        6.0   Rain\n",
       "1 2019-08-02         26.0        8.0   Snow\n",
       "2 2019-08-03         45.0        0.0   Rain\n",
       "3 2019-08-04         25.0        7.0  Sunny\n",
       "4 2019-08-05         35.0        8.0   Snow"
      ]
     },
     "execution_count": 84,
     "metadata": {},
     "output_type": "execute_result"
    }
   ],
   "source": [
    "new_df=df.fillna(0)\n",
    "new_df.head()\n"
   ]
  },
  {
   "cell_type": "code",
   "execution_count": 85,
   "metadata": {},
   "outputs": [
    {
     "data": {
      "text/plain": [
       "<bound method NDFrame.describe of           Day  Temperature  Windspeed  Event\n",
       "0  2019-08-01         35.0        6.0   Rain\n",
       "1  2019-08-02         26.0        8.0   Snow\n",
       "2  2019-08-03         45.0        0.0   Rain\n",
       "3  2019-08-04         25.0        7.0  Sunny\n",
       "4  2019-08-05         35.0        8.0   Snow\n",
       "5  2019-08-06         32.0        5.0  Sunny\n",
       "6  2019-08-07         23.0        6.0   Snow\n",
       "7  2019-08-08         36.0        2.0  Sunny\n",
       "8  2019-08-09         34.0        5.0   Rain\n",
       "9  2019-08-10         29.0        2.0  Sunny\n",
       "10 2019-08-11         28.0        3.0   Snow\n",
       "11 2019-08-12          0.0        6.0  Sunny\n",
       "12 2019-08-13         32.0        4.0   Snow\n",
       "13 2019-08-14         31.0        2.0  Sunny\n",
       "14 2019-08-15         30.0        5.0   Rain\n",
       "15 2019-08-16         31.0        4.0  Sunny\n",
       "16 2019-08-17         26.0        2.0   Snow\n",
       "17 2019-08-18         27.0        0.0   Rain\n",
       "18 2019-08-19         29.0        5.0  Sunny\n",
       "19 2019-08-20         24.0        4.0   Rain\n",
       "20 2019-08-21          0.0        8.0  Sunny\n",
       "21 2019-08-22         31.0        6.0   Snow\n",
       "22 2019-08-23         30.0        1.0  Sunny\n",
       "23 2019-08-24         24.0        2.0   Rain\n",
       "24 2019-08-25         26.0        6.0  Sunny\n",
       "25 2019-08-26         28.0        7.0   Snow\n",
       "26 2019-08-27         29.0        9.0  Sunny\n",
       "27 2019-08-28         26.0        8.0   Rain\n",
       "28 2019-08-29         24.0        6.0  Sunny\n",
       "29 2019-08-30         25.0        4.0   Rain\n",
       "30 2019-08-31         32.0        2.0      0>"
      ]
     },
     "execution_count": 85,
     "metadata": {},
     "output_type": "execute_result"
    }
   ],
   "source": [
    "new_df.describe"
   ]
  },
  {
   "cell_type": "code",
   "execution_count": 86,
   "metadata": {},
   "outputs": [
    {
     "data": {
      "text/plain": [
       "<function matplotlib.pyplot.show(*args, **kw)>"
      ]
     },
     "execution_count": 86,
     "metadata": {},
     "output_type": "execute_result"
    },
    {
     "data": {
      "image/png": "[encoded data removed]",
      "text/plain": [
       "<Figure size 432x288 with 1 Axes>"
      ]
     },
     "metadata": {
      "needs_background": "light"
     },
     "output_type": "display_data"
    }
   ],
   "source": [
    "plt.bar(new_df[\"Temperature\"],new_df[\"Windspeed\"])\n",
    "plt.title('weatherdata')\n",
    "plt.xlabel('Temperature')\n",
    "plt.ylabel('Windspeed')\n",
    "plt.show"
   ]
  },
  {
   "cell_type": "code",
   "execution_count": 87,
   "metadata": {},
   "outputs": [
    {
     "data": {
      "text/plain": [
       "['Day', 'Temperature', 'Windspeed', 'Event']"
      ]
     },
     "execution_count": 87,
     "metadata": {},
     "output_type": "execute_result"
    }
   ],
   "source": [
    "list(new_df.columns)"
   ]
  },
  {
   "cell_type": "code",
   "execution_count": 88,
   "metadata": {},
   "outputs": [
    {
     "data": {
      "text/plain": [
       "0    2019-08-01\n",
       "1    2019-08-02\n",
       "2    2019-08-03\n",
       "3    2019-08-04\n",
       "4    2019-08-05\n",
       "5    2019-08-06\n",
       "6    2019-08-07\n",
       "7    2019-08-08\n",
       "8    2019-08-09\n",
       "9    2019-08-10\n",
       "10   2019-08-11\n",
       "11   2019-08-12\n",
       "12   2019-08-13\n",
       "13   2019-08-14\n",
       "14   2019-08-15\n",
       "15   2019-08-16\n",
       "16   2019-08-17\n",
       "17   2019-08-18\n",
       "18   2019-08-19\n",
       "19   2019-08-20\n",
       "20   2019-08-21\n",
       "21   2019-08-22\n",
       "22   2019-08-23\n",
       "23   2019-08-24\n",
       "24   2019-08-25\n",
       "25   2019-08-26\n",
       "26   2019-08-27\n",
       "27   2019-08-28\n",
       "28   2019-08-29\n",
       "29   2019-08-30\n",
       "30   2019-08-31\n",
       "Name: Day, dtype: datetime64[ns]"
      ]
     },
     "execution_count": 88,
     "metadata": {},
     "output_type": "execute_result"
    }
   ],
   "source": [
    "new_df['Day']"
   ]
  },
  {
   "cell_type": "code",
   "execution_count": 14,
   "metadata": {},
   "outputs": [],
   "source": [
    "new_df[\"Month\"]=pd.to_datetime(new_df[\"Day\"]).dt.month"
   ]
  },
  {
   "cell_type": "code",
   "execution_count": 15,
   "metadata": {},
   "outputs": [],
   "source": [
    "new_df[\"year\"]=pd.to_datetime(new_df[\"Day\"]).dt.year"
   ]
  },
  {
   "cell_type": "code",
   "execution_count": 16,
   "metadata": {},
   "outputs": [],
   "source": [
    "new_df[\"Date\"]=pd.to_datetime(new_df[\"Day\"]).dt.date"
   ]
  },
  {
   "cell_type": "code",
   "execution_count": 89,
   "metadata": {},
   "outputs": [],
   "source": [
    "new_df[\"time\"]=pd.to_datetime(new_df[\"Day\"]).dt.time"
   ]
  },
  {
   "cell_type": "code",
   "execution_count": 90,
   "metadata": {},
   "outputs": [],
   "source": [
    "new_df[\"week\"]=pd.to_datetime(new_df[\"Day\"]).dt.week"
   ]
  },
  {
   "cell_type": "code",
   "execution_count": 91,
   "metadata": {},
   "outputs": [],
   "source": [
    "new_df[\"day\"]=pd.to_datetime(new_df[\"Day\"]).dt.day_name"
   ]
  },
  {
   "cell_type": "code",
   "execution_count": 92,
   "metadata": {},
   "outputs": [
    {
     "data": {
      "text/html": [
       "<div>\n",
       "<style scoped>\n",
       "    .dataframe tbody tr th:only-of-type {\n",
       "        vertical-align: middle;\n",
       "    }\n",
       "\n",
       "    .dataframe tbody tr th {\n",
       "        vertical-align: top;\n",
       "    }\n",
       "\n",
       "    .dataframe thead th {\n",
       "        text-align: right;\n",
       "    }\n",
       "</style>\n",
       "<table border=\"1\" class=\"dataframe\">\n",
       "  <thead>\n",
       "    <tr style=\"text-align: right;\">\n",
       "      <th></th>\n",
       "      <th>Day</th>\n",
       "      <th>Temperature</th>\n",
       "      <th>Windspeed</th>\n",
       "      <th>Event</th>\n",
       "      <th>time</th>\n",
       "      <th>week</th>\n",
       "      <th>day</th>\n",
       "    </tr>\n",
       "  </thead>\n",
       "  <tbody>\n",
       "    <tr>\n",
       "      <th>0</th>\n",
       "      <td>2019-08-01</td>\n",
       "      <td>35.0</td>\n",
       "      <td>6.0</td>\n",
       "      <td>Rain</td>\n",
       "      <td>00:00:00</td>\n",
       "      <td>31</td>\n",
       "      <td>&lt;bound method PandasDelegate._add_delegate_acc...</td>\n",
       "    </tr>\n",
       "    <tr>\n",
       "      <th>1</th>\n",
       "      <td>2019-08-02</td>\n",
       "      <td>26.0</td>\n",
       "      <td>8.0</td>\n",
       "      <td>Snow</td>\n",
       "      <td>00:00:00</td>\n",
       "      <td>31</td>\n",
       "      <td>&lt;bound method PandasDelegate._add_delegate_acc...</td>\n",
       "    </tr>\n",
       "    <tr>\n",
       "      <th>2</th>\n",
       "      <td>2019-08-03</td>\n",
       "      <td>45.0</td>\n",
       "      <td>0.0</td>\n",
       "      <td>Rain</td>\n",
       "      <td>00:00:00</td>\n",
       "      <td>31</td>\n",
       "      <td>&lt;bound method PandasDelegate._add_delegate_acc...</td>\n",
       "    </tr>\n",
       "    <tr>\n",
       "      <th>3</th>\n",
       "      <td>2019-08-04</td>\n",
       "      <td>25.0</td>\n",
       "      <td>7.0</td>\n",
       "      <td>Sunny</td>\n",
       "      <td>00:00:00</td>\n",
       "      <td>31</td>\n",
       "      <td>&lt;bound method PandasDelegate._add_delegate_acc...</td>\n",
       "    </tr>\n",
       "    <tr>\n",
       "      <th>4</th>\n",
       "      <td>2019-08-05</td>\n",
       "      <td>35.0</td>\n",
       "      <td>8.0</td>\n",
       "      <td>Snow</td>\n",
       "      <td>00:00:00</td>\n",
       "      <td>32</td>\n",
       "      <td>&lt;bound method PandasDelegate._add_delegate_acc...</td>\n",
       "    </tr>\n",
       "  </tbody>\n",
       "</table>\n",
       "</div>"
      ],
      "text/plain": [
       "         Day  Temperature  Windspeed  Event      time  week  \\\n",
       "0 2019-08-01         35.0        6.0   Rain  00:00:00    31   \n",
       "1 2019-08-02         26.0        8.0   Snow  00:00:00    31   \n",
       "2 2019-08-03         45.0        0.0   Rain  00:00:00    31   \n",
       "3 2019-08-04         25.0        7.0  Sunny  00:00:00    31   \n",
       "4 2019-08-05         35.0        8.0   Snow  00:00:00    32   \n",
       "\n",
       "                                                 day  \n",
       "0  <bound method PandasDelegate._add_delegate_acc...  \n",
       "1  <bound method PandasDelegate._add_delegate_acc...  \n",
       "2  <bound method PandasDelegate._add_delegate_acc...  \n",
       "3  <bound method PandasDelegate._add_delegate_acc...  \n",
       "4  <bound method PandasDelegate._add_delegate_acc...  "
      ]
     },
     "execution_count": 92,
     "metadata": {},
     "output_type": "execute_result"
    }
   ],
   "source": [
    "new_df.head()"
   ]
  },
  {
   "cell_type": "code",
   "execution_count": 93,
   "metadata": {},
   "outputs": [],
   "source": [
    "new_df.drop([\"Day\"], axis = 1, inplace = True)"
   ]
  },
  {
   "cell_type": "code",
   "execution_count": 94,
   "metadata": {},
   "outputs": [
    {
     "data": {
      "text/html": [
       "<div>\n",
       "<style scoped>\n",
       "    .dataframe tbody tr th:only-of-type {\n",
       "        vertical-align: middle;\n",
       "    }\n",
       "\n",
       "    .dataframe tbody tr th {\n",
       "        vertical-align: top;\n",
       "    }\n",
       "\n",
       "    .dataframe thead th {\n",
       "        text-align: right;\n",
       "    }\n",
       "</style>\n",
       "<table border=\"1\" class=\"dataframe\">\n",
       "  <thead>\n",
       "    <tr style=\"text-align: right;\">\n",
       "      <th></th>\n",
       "      <th>Temperature</th>\n",
       "      <th>Windspeed</th>\n",
       "      <th>Event</th>\n",
       "      <th>time</th>\n",
       "      <th>week</th>\n",
       "      <th>day</th>\n",
       "    </tr>\n",
       "  </thead>\n",
       "  <tbody>\n",
       "    <tr>\n",
       "      <th>0</th>\n",
       "      <td>35.0</td>\n",
       "      <td>6.0</td>\n",
       "      <td>Rain</td>\n",
       "      <td>00:00:00</td>\n",
       "      <td>31</td>\n",
       "      <td>&lt;bound method PandasDelegate._add_delegate_acc...</td>\n",
       "    </tr>\n",
       "    <tr>\n",
       "      <th>1</th>\n",
       "      <td>26.0</td>\n",
       "      <td>8.0</td>\n",
       "      <td>Snow</td>\n",
       "      <td>00:00:00</td>\n",
       "      <td>31</td>\n",
       "      <td>&lt;bound method PandasDelegate._add_delegate_acc...</td>\n",
       "    </tr>\n",
       "    <tr>\n",
       "      <th>2</th>\n",
       "      <td>45.0</td>\n",
       "      <td>0.0</td>\n",
       "      <td>Rain</td>\n",
       "      <td>00:00:00</td>\n",
       "      <td>31</td>\n",
       "      <td>&lt;bound method PandasDelegate._add_delegate_acc...</td>\n",
       "    </tr>\n",
       "    <tr>\n",
       "      <th>3</th>\n",
       "      <td>25.0</td>\n",
       "      <td>7.0</td>\n",
       "      <td>Sunny</td>\n",
       "      <td>00:00:00</td>\n",
       "      <td>31</td>\n",
       "      <td>&lt;bound method PandasDelegate._add_delegate_acc...</td>\n",
       "    </tr>\n",
       "    <tr>\n",
       "      <th>4</th>\n",
       "      <td>35.0</td>\n",
       "      <td>8.0</td>\n",
       "      <td>Snow</td>\n",
       "      <td>00:00:00</td>\n",
       "      <td>32</td>\n",
       "      <td>&lt;bound method PandasDelegate._add_delegate_acc...</td>\n",
       "    </tr>\n",
       "  </tbody>\n",
       "</table>\n",
       "</div>"
      ],
      "text/plain": [
       "   Temperature  Windspeed  Event      time  week  \\\n",
       "0         35.0        6.0   Rain  00:00:00    31   \n",
       "1         26.0        8.0   Snow  00:00:00    31   \n",
       "2         45.0        0.0   Rain  00:00:00    31   \n",
       "3         25.0        7.0  Sunny  00:00:00    31   \n",
       "4         35.0        8.0   Snow  00:00:00    32   \n",
       "\n",
       "                                                 day  \n",
       "0  <bound method PandasDelegate._add_delegate_acc...  \n",
       "1  <bound method PandasDelegate._add_delegate_acc...  \n",
       "2  <bound method PandasDelegate._add_delegate_acc...  \n",
       "3  <bound method PandasDelegate._add_delegate_acc...  \n",
       "4  <bound method PandasDelegate._add_delegate_acc...  "
      ]
     },
     "execution_count": 94,
     "metadata": {},
     "output_type": "execute_result"
    }
   ],
   "source": [
    "new_df.head()"
   ]
  },
  {
   "cell_type": "code",
   "execution_count": 112,
   "metadata": {},
   "outputs": [],
   "source": [
    "import seaborn as sns"
   ]
  },
  {
   "cell_type": "code",
   "execution_count": 113,
   "metadata": {},
   "outputs": [
    {
     "data": {
      "image/png": "[encoded data removed]",
      "text/plain": [
       "<Figure size 432x288 with 1 Axes>"
      ]
     },
     "metadata": {
      "needs_background": "light"
     },
     "output_type": "display_data"
    }
   ],
   "source": [
    "sns.lineplot(x=new_df['Windspeed'],y=new_df['Temperature'],size=5)\n",
    "plt.show()"
   ]
  },
  {
   "cell_type": "code",
   "execution_count": 114,
   "metadata": {},
   "outputs": [
    {
     "data": {
      "text/plain": [
       "{'whiskers': [<matplotlib.lines.Line2D at 0x2527b9d3608>,\n",
       "  <matplotlib.lines.Line2D at 0x2527b9ccf88>,\n",
       "  <matplotlib.lines.Line2D at 0x2527b9dfd48>,\n",
       "  <matplotlib.lines.Line2D at 0x2527b9dfe48>,\n",
       "  <matplotlib.lines.Line2D at 0x2527b9efe08>,\n",
       "  <matplotlib.lines.Line2D at 0x2527b9f5808>],\n",
       " 'caps': [<matplotlib.lines.Line2D at 0x2527b9d3fc8>,\n",
       "  <matplotlib.lines.Line2D at 0x2527b9d3d08>,\n",
       "  <matplotlib.lines.Line2D at 0x2527b9dfec8>,\n",
       "  <matplotlib.lines.Line2D at 0x2527b9e8d08>,\n",
       "  <matplotlib.lines.Line2D at 0x2527b9f5dc8>,\n",
       "  <matplotlib.lines.Line2D at 0x2527b9f5d48>],\n",
       " 'boxes': [<matplotlib.lines.Line2D at 0x2527b9ccd88>,\n",
       "  <matplotlib.lines.Line2D at 0x2527b9d8d88>,\n",
       "  <matplotlib.lines.Line2D at 0x2527b9df248>],\n",
       " 'medians': [<matplotlib.lines.Line2D at 0x2527b9d8c08>,\n",
       "  <matplotlib.lines.Line2D at 0x2527b9e8e08>,\n",
       "  <matplotlib.lines.Line2D at 0x2527b9f5f48>],\n",
       " 'fliers': [<matplotlib.lines.Line2D at 0x2527b9d8d08>,\n",
       "  <matplotlib.lines.Line2D at 0x2527b9e8e88>,\n",
       "  <matplotlib.lines.Line2D at 0x2527b9fbe08>],\n",
       " 'means': []}"
      ]
     },
     "execution_count": 114,
     "metadata": {},
     "output_type": "execute_result"
    },
    {
     "data": {
      "image/png": "[encoded data removed]",
      "text/plain": [
       "<Figure size 432x288 with 1 Axes>"
      ]
     },
     "metadata": {
      "needs_background": "light"
     },
     "output_type": "display_data"
    }
   ],
   "source": [
    "new_df.boxplot(return_type='dict')"
   ]
  },
  {
   "cell_type": "code",
   "execution_count": 119,
   "metadata": {},
   "outputs": [
    {
     "data": {
      "text/plain": [
       "array([[6.],\n",
       "       [8.],\n",
       "       [0.],\n",
       "       [7.],\n",
       "       [8.],\n",
       "       [5.],\n",
       "       [6.],\n",
       "       [2.],\n",
       "       [5.],\n",
       "       [2.],\n",
       "       [3.],\n",
       "       [6.],\n",
       "       [4.],\n",
       "       [2.],\n",
       "       [5.],\n",
       "       [4.],\n",
       "       [2.],\n",
       "       [0.],\n",
       "       [5.],\n",
       "       [4.],\n",
       "       [8.],\n",
       "       [6.],\n",
       "       [1.],\n",
       "       [2.],\n",
       "       [6.],\n",
       "       [7.],\n",
       "       [9.],\n",
       "       [8.],\n",
       "       [6.],\n",
       "       [4.],\n",
       "       [2.]])"
      ]
     },
     "execution_count": 119,
     "metadata": {},
     "output_type": "execute_result"
    }
   ],
   "source": [
    "x=new_df.iloc[:,1].values.reshape(-1,1)\n",
    "x"
   ]
  },
  {
   "cell_type": "code",
   "execution_count": 122,
   "metadata": {},
   "outputs": [
    {
     "data": {
      "text/plain": [
       "array([[35.],\n",
       "       [26.],\n",
       "       [45.],\n",
       "       [25.],\n",
       "       [35.],\n",
       "       [32.],\n",
       "       [23.],\n",
       "       [36.],\n",
       "       [34.],\n",
       "       [29.],\n",
       "       [28.],\n",
       "       [ 0.],\n",
       "       [32.],\n",
       "       [31.],\n",
       "       [30.],\n",
       "       [31.],\n",
       "       [26.],\n",
       "       [27.],\n",
       "       [29.],\n",
       "       [24.],\n",
       "       [ 0.],\n",
       "       [31.],\n",
       "       [30.],\n",
       "       [24.],\n",
       "       [26.],\n",
       "       [28.],\n",
       "       [29.],\n",
       "       [26.],\n",
       "       [24.],\n",
       "       [25.],\n",
       "       [32.]])"
      ]
     },
     "execution_count": 122,
     "metadata": {},
     "output_type": "execute_result"
    }
   ],
   "source": [
    "y=new_df.iloc[:,0].values.reshape(-1,1)\n",
    "y"
   ]
  },
  {
   "cell_type": "markdown",
   "metadata": {},
   "source": [
    "#### from sklearn.linear_model import LinearRegression\n",
    "from sklearn.model_selection import train_test_split\n",
    "x_train,x_test,y_train,y_test=train_test_split(x,y,test_size=0.2,random_state=0)"
   ]
  },
  {
   "cell_type": "code",
   "execution_count": 123,
   "metadata": {},
   "outputs": [],
   "source": [
    "from sklearn.model_selection import train_test_split\n",
    "x_train,x_test,y_train,y_test=train_test_split(x,y,test_size=0.2,random_state=0)"
   ]
  },
  {
   "cell_type": "code",
   "execution_count": 124,
   "metadata": {},
   "outputs": [
    {
     "data": {
      "text/plain": [
       "array([[6.],\n",
       "       [0.],\n",
       "       [2.],\n",
       "       [5.],\n",
       "       [2.],\n",
       "       [5.],\n",
       "       [5.],\n",
       "       [6.],\n",
       "       [8.],\n",
       "       [8.],\n",
       "       [2.],\n",
       "       [6.],\n",
       "       [8.],\n",
       "       [5.],\n",
       "       [6.],\n",
       "       [4.],\n",
       "       [2.],\n",
       "       [2.],\n",
       "       [9.],\n",
       "       [7.],\n",
       "       [6.],\n",
       "       [6.],\n",
       "       [4.],\n",
       "       [4.]])"
      ]
     },
     "execution_count": 124,
     "metadata": {},
     "output_type": "execute_result"
    }
   ],
   "source": [
    "x_train"
   ]
  },
  {
   "cell_type": "code",
   "execution_count": 125,
   "metadata": {},
   "outputs": [
    {
     "data": {
      "text/plain": [
       "array([[0.],\n",
       "       [4.],\n",
       "       [2.],\n",
       "       [3.],\n",
       "       [8.],\n",
       "       [7.],\n",
       "       [1.]])"
      ]
     },
     "execution_count": 125,
     "metadata": {},
     "output_type": "execute_result"
    }
   ],
   "source": [
    "x_test"
   ]
  },
  {
   "cell_type": "code",
   "execution_count": 126,
   "metadata": {},
   "outputs": [
    {
     "data": {
      "text/plain": [
       "LinearRegression(copy_X=True, fit_intercept=True, n_jobs=None, normalize=False)"
      ]
     },
     "execution_count": 126,
     "metadata": {},
     "output_type": "execute_result"
    }
   ],
   "source": [
    "lr=LinearRegression()\n",
    "lr.fit(x,y)"
   ]
  },
  {
   "cell_type": "code",
   "execution_count": 127,
   "metadata": {},
   "outputs": [
    {
     "data": {
      "text/plain": [
       "array([[33.11448041],\n",
       "       [28.25996593],\n",
       "       [30.68722317],\n",
       "       [29.47359455],\n",
       "       [23.40545145],\n",
       "       [24.61908007],\n",
       "       [31.90085179]])"
      ]
     },
     "execution_count": 127,
     "metadata": {},
     "output_type": "execute_result"
    }
   ],
   "source": [
    "y_pred = lr.predict(x_test)\n",
    "y_pred"
   ]
  },
  {
   "cell_type": "code",
   "execution_count": 138,
   "metadata": {},
   "outputs": [
    {
     "data": {
      "text/plain": [
       "KNeighborsRegressor(algorithm='auto', leaf_size=30, metric='minkowski',\n",
       "                    metric_params=None, n_jobs=None, n_neighbors=8, p=2,\n",
       "                    weights='uniform')"
      ]
     },
     "execution_count": 138,
     "metadata": {},
     "output_type": "execute_result"
    }
   ],
   "source": [
    "from sklearn.metrics import accuracy_score\n",
    "from sklearn.neighbors import KNeighborsRegressor\n",
    "\n",
    "KNR=KNeighborsRegressor(8)\n",
    "KNR.fit(x_train,y_train)"
   ]
  },
  {
   "cell_type": "code",
   "execution_count": 139,
   "metadata": {},
   "outputs": [],
   "source": [
    "KNR=KNR.predict(x_test).reshape(-1,1)"
   ]
  },
  {
   "cell_type": "code",
   "execution_count": 140,
   "metadata": {},
   "outputs": [
    {
     "data": {
      "text/plain": [
       "array([[28.625],\n",
       "       [29.75 ],\n",
       "       [28.625],\n",
       "       [29.25 ],\n",
       "       [20.625],\n",
       "       [19.875],\n",
       "       [28.625]])"
      ]
     },
     "execution_count": 140,
     "metadata": {},
     "output_type": "execute_result"
    }
   ],
   "source": [
    "KNR"
   ]
  },
  {
   "cell_type": "code",
   "execution_count": 141,
   "metadata": {},
   "outputs": [
    {
     "ename": "AttributeError",
     "evalue": "'numpy.ndarray' object has no attribute 'predict'",
     "output_type": "error",
     "traceback": [
      "\u001b[1;31m---------------------------------------------------------------------------\u001b[0m",
      "\u001b[1;31mAttributeError\u001b[0m                            Traceback (most recent call last)",
      "\u001b[1;32m<ipython-input-141-332029226955>\u001b[0m in \u001b[0;36m<module>\u001b[1;34m\u001b[0m\n\u001b[0;32m      1\u001b[0m \u001b[0mplt\u001b[0m\u001b[1;33m.\u001b[0m\u001b[0mscatter\u001b[0m\u001b[1;33m(\u001b[0m\u001b[0mx\u001b[0m\u001b[1;33m,\u001b[0m \u001b[0my\u001b[0m\u001b[1;33m)\u001b[0m\u001b[1;33m\u001b[0m\u001b[1;33m\u001b[0m\u001b[0m\n\u001b[1;32m----> 2\u001b[1;33m \u001b[0mplt\u001b[0m\u001b[1;33m.\u001b[0m\u001b[0mscatter\u001b[0m\u001b[1;33m(\u001b[0m\u001b[0mx\u001b[0m\u001b[1;33m,\u001b[0m \u001b[0mKNR\u001b[0m\u001b[1;33m.\u001b[0m\u001b[0mpredict\u001b[0m\u001b[1;33m(\u001b[0m\u001b[0mx_test\u001b[0m\u001b[1;33m)\u001b[0m\u001b[1;33m)\u001b[0m\u001b[1;33m\u001b[0m\u001b[1;33m\u001b[0m\u001b[0m\n\u001b[0m\u001b[0;32m      3\u001b[0m \u001b[0mplt\u001b[0m\u001b[1;33m.\u001b[0m\u001b[0mshow\u001b[0m\u001b[1;33m(\u001b[0m\u001b[1;33m)\u001b[0m\u001b[1;33m\u001b[0m\u001b[1;33m\u001b[0m\u001b[0m\n",
      "\u001b[1;31mAttributeError\u001b[0m: 'numpy.ndarray' object has no attribute 'predict'"
     ]
    },
    {
     "data": {
      "image/png": "[encoded data removed]",
      "text/plain": [
       "<Figure size 432x288 with 1 Axes>"
      ]
     },
     "metadata": {
      "needs_background": "light"
     },
     "output_type": "display_data"
    }
   ],
   "source": [
    "plt.scatter(x, y)\n",
    "plt.scatter(x, KNR.predict(x_test))\n",
    "plt.show()"
   ]
  },
  {
   "cell_type": "code",
   "execution_count": null,
   "metadata": {},
   "outputs": [],
   "source": []
  }
 ],
 "metadata": {
  "kernelspec": {
   "display_name": "Python 3",
   "language": "python",
   "name": "python3"
  },
  "language_info": {
   "codemirror_mode": {
    "name": "ipython",
    "version": 3
   },
   "file_extension": ".py",
   "mimetype": "text/x-python",
   "name": "python",
   "nbconvert_exporter": "python",
   "pygments_lexer": "ipython3",
   "version": "3.7.6"
  }
 },
 "nbformat": 4,
 "nbformat_minor": 4
}
